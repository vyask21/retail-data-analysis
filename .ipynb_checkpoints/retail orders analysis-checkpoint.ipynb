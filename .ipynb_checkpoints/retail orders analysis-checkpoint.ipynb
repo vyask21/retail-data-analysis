{
 "cells": [
  {
   "cell_type": "code",
   "execution_count": null,
   "id": "811be62a",
   "metadata": {},
   "outputs": [],
   "source": [
    "#install kaggle library\n",
    "!pip install kaggle"
   ]
  },
  {
   "cell_type": "code",
   "execution_count": null,
   "id": "4f0effbe",
   "metadata": {},
   "outputs": [],
   "source": [
    "#import and download the dataset using kaggle api\n",
    "import kaggle\n",
    "!kaggle datasets download vyasks01/retail-orders-dataset -f orders.csv"
   ]
  },
  {
   "cell_type": "code",
   "execution_count": null,
   "id": "0e7dc8bf",
   "metadata": {},
   "outputs": [],
   "source": [
    "#extract the csv file from the zip file\n",
    "import zipfile\n",
    "zip_ref = zipfile.ZipFile('orders.csv.zip')\n",
    "#extract file to the dir\n",
    "zip_ref.extractall()\n",
    "# close file\n",
    "zip_ref.close()"
   ]
  },
  {
   "cell_type": "code",
   "execution_count": null,
   "id": "f3996ca5",
   "metadata": {},
   "outputs": [],
   "source": [
    "#read data from the file and handle null values\n",
    "import pandas as pd\n",
    "df = pd.read_csv('orders.csv', na_values=['Not Available', 'unknown'])\n",
    "df['Ship Mode'].unique()"
   ]
  },
  {
   "cell_type": "code",
   "execution_count": null,
   "id": "f5d5771e",
   "metadata": {},
   "outputs": [],
   "source": [
    "#rectify column names\n",
    "df.columns=df.columns.str.lower()\n",
    "df.columns=df.columns.str.replace(' ', '_')\n",
    "df.columns"
   ]
  },
  {
   "cell_type": "code",
   "execution_count": null,
   "id": "aa121306",
   "metadata": {},
   "outputs": [],
   "source": [
    "#getting discount, sales price and profit\n",
    "#df['discount']=df['list_price']*df['discount_percent']*.01\n",
    "#df['sales_price']=df['list_price']-df['discount']\n",
    "df['profit']=df['sales_price']-df['cost_price']"
   ]
  },
  {
   "cell_type": "code",
   "execution_count": null,
   "id": "09271db7",
   "metadata": {},
   "outputs": [],
   "source": [
    "#convert columns into respective datatypes\n",
    "df['order_date']=pd.to_datetime(df['order_date'], format=\"%Y-%m-%d\")\n",
    "df.dtypes"
   ]
  },
  {
   "cell_type": "code",
   "execution_count": null,
   "id": "cb102dfa",
   "metadata": {},
   "outputs": [],
   "source": [
    "#dropping columns that are not required\n",
    "df.drop(columns=['list_price', 'discount_percent', 'cost_price'], inplace=True)"
   ]
  },
  {
   "cell_type": "code",
   "execution_count": null,
   "id": "6d511533",
   "metadata": {},
   "outputs": [],
   "source": [
    "#load data into sql"
   ]
  },
  {
   "cell_type": "code",
   "execution_count": null,
   "id": "eabeb11d",
   "metadata": {},
   "outputs": [],
   "source": []
  }
 ],
 "metadata": {
  "kernelspec": {
   "display_name": "Python 3 (ipykernel)",
   "language": "python",
   "name": "python3"
  },
  "language_info": {
   "codemirror_mode": {
    "name": "ipython",
    "version": 3
   },
   "file_extension": ".py",
   "mimetype": "text/x-python",
   "name": "python",
   "nbconvert_exporter": "python",
   "pygments_lexer": "ipython3",
   "version": "3.11.7"
  }
 },
 "nbformat": 4,
 "nbformat_minor": 5
}
